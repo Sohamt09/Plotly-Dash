{
 "cells": [
  {
   "cell_type": "code",
   "execution_count": 2,
   "id": "cb3abdda-2ec4-43c2-b34f-49d54470e3e0",
   "metadata": {},
   "outputs": [
    {
     "name": "stdout",
     "output_type": "stream",
     "text": [
      "Collecting dash\n",
      "  Downloading dash-2.17.1-py3-none-any.whl.metadata (10 kB)\n",
      "Requirement already satisfied: Flask<3.1,>=1.0.4 in c:\\users\\dell\\anaconda3\\lib\\site-packages (from dash) (2.2.5)\n",
      "Requirement already satisfied: Werkzeug<3.1 in c:\\users\\dell\\anaconda3\\lib\\site-packages (from dash) (2.2.3)\n",
      "Requirement already satisfied: plotly>=5.0.0 in c:\\users\\dell\\anaconda3\\lib\\site-packages (from dash) (5.9.0)\n",
      "Collecting dash-html-components==2.0.0 (from dash)\n",
      "  Downloading dash_html_components-2.0.0-py3-none-any.whl.metadata (3.8 kB)\n",
      "Collecting dash-core-components==2.0.0 (from dash)\n",
      "  Downloading dash_core_components-2.0.0-py3-none-any.whl.metadata (2.9 kB)\n",
      "Collecting dash-table==5.0.0 (from dash)\n",
      "  Downloading dash_table-5.0.0-py3-none-any.whl.metadata (2.4 kB)\n",
      "Requirement already satisfied: importlib-metadata in c:\\users\\dell\\anaconda3\\lib\\site-packages (from dash) (7.0.1)\n",
      "Requirement already satisfied: typing-extensions>=4.1.1 in c:\\users\\dell\\anaconda3\\lib\\site-packages (from dash) (4.9.0)\n",
      "Requirement already satisfied: requests in c:\\users\\dell\\anaconda3\\lib\\site-packages (from dash) (2.31.0)\n",
      "Collecting retrying (from dash)\n",
      "  Downloading retrying-1.3.4-py3-none-any.whl.metadata (6.9 kB)\n",
      "Requirement already satisfied: nest-asyncio in c:\\users\\dell\\anaconda3\\lib\\site-packages (from dash) (1.6.0)\n",
      "Requirement already satisfied: setuptools in c:\\users\\dell\\anaconda3\\lib\\site-packages (from dash) (68.2.2)\n",
      "Requirement already satisfied: Jinja2>=3.0 in c:\\users\\dell\\anaconda3\\lib\\site-packages (from Flask<3.1,>=1.0.4->dash) (3.1.3)\n",
      "Requirement already satisfied: itsdangerous>=2.0 in c:\\users\\dell\\anaconda3\\lib\\site-packages (from Flask<3.1,>=1.0.4->dash) (2.0.1)\n",
      "Requirement already satisfied: click>=8.0 in c:\\users\\dell\\anaconda3\\lib\\site-packages (from Flask<3.1,>=1.0.4->dash) (8.1.7)\n",
      "Requirement already satisfied: tenacity>=6.2.0 in c:\\users\\dell\\anaconda3\\lib\\site-packages (from plotly>=5.0.0->dash) (8.2.2)\n",
      "Requirement already satisfied: MarkupSafe>=2.1.1 in c:\\users\\dell\\anaconda3\\lib\\site-packages (from Werkzeug<3.1->dash) (2.1.3)\n",
      "Requirement already satisfied: zipp>=0.5 in c:\\users\\dell\\anaconda3\\lib\\site-packages (from importlib-metadata->dash) (3.17.0)\n",
      "Requirement already satisfied: charset-normalizer<4,>=2 in c:\\users\\dell\\anaconda3\\lib\\site-packages (from requests->dash) (2.0.4)\n",
      "Requirement already satisfied: idna<4,>=2.5 in c:\\users\\dell\\anaconda3\\lib\\site-packages (from requests->dash) (3.4)\n",
      "Requirement already satisfied: urllib3<3,>=1.21.1 in c:\\users\\dell\\anaconda3\\lib\\site-packages (from requests->dash) (2.0.7)\n",
      "Requirement already satisfied: certifi>=2017.4.17 in c:\\users\\dell\\anaconda3\\lib\\site-packages (from requests->dash) (2024.2.2)\n",
      "Requirement already satisfied: six>=1.7.0 in c:\\users\\dell\\anaconda3\\lib\\site-packages (from retrying->dash) (1.16.0)\n",
      "Requirement already satisfied: colorama in c:\\users\\dell\\anaconda3\\lib\\site-packages (from click>=8.0->Flask<3.1,>=1.0.4->dash) (0.4.6)\n",
      "Downloading dash-2.17.1-py3-none-any.whl (7.5 MB)\n",
      "   ---------------------------------------- 0.0/7.5 MB ? eta -:--:--\n",
      "   ---------------------------------------- 0.0/7.5 MB 660.6 kB/s eta 0:00:12\n",
      "    --------------------------------------- 0.1/7.5 MB 1.7 MB/s eta 0:00:05\n",
      "   -- ------------------------------------- 0.4/7.5 MB 2.8 MB/s eta 0:00:03\n",
      "   --- ------------------------------------ 0.6/7.5 MB 2.9 MB/s eta 0:00:03\n",
      "   ---- ----------------------------------- 0.8/7.5 MB 3.4 MB/s eta 0:00:02\n",
      "   ------ --------------------------------- 1.3/7.5 MB 4.1 MB/s eta 0:00:02\n",
      "   --------- ------------------------------ 1.7/7.5 MB 4.5 MB/s eta 0:00:02\n",
      "   ---------- ----------------------------- 2.0/7.5 MB 4.7 MB/s eta 0:00:02\n",
      "   ------------ --------------------------- 2.3/7.5 MB 4.7 MB/s eta 0:00:02\n",
      "   ------------- -------------------------- 2.5/7.5 MB 4.7 MB/s eta 0:00:02\n",
      "   --------------- ------------------------ 2.9/7.5 MB 4.8 MB/s eta 0:00:01\n",
      "   ----------------- ---------------------- 3.2/7.5 MB 4.9 MB/s eta 0:00:01\n",
      "   ----------------- ---------------------- 3.3/7.5 MB 4.7 MB/s eta 0:00:01\n",
      "   -------------------- ------------------- 3.8/7.5 MB 4.9 MB/s eta 0:00:01\n",
      "   ---------------------- ----------------- 4.2/7.5 MB 5.2 MB/s eta 0:00:01\n",
      "   ------------------------ --------------- 4.5/7.5 MB 5.2 MB/s eta 0:00:01\n",
      "   ------------------------- -------------- 4.8/7.5 MB 5.2 MB/s eta 0:00:01\n",
      "   --------------------------- ------------ 5.1/7.5 MB 5.3 MB/s eta 0:00:01\n",
      "   --------------------------- ------------ 5.2/7.5 MB 5.1 MB/s eta 0:00:01\n",
      "   ----------------------------- ---------- 5.5/7.5 MB 5.0 MB/s eta 0:00:01\n",
      "   ------------------------------ --------- 5.7/7.5 MB 5.1 MB/s eta 0:00:01\n",
      "   -------------------------------- ------- 6.2/7.5 MB 5.2 MB/s eta 0:00:01\n",
      "   ----------------------------------- ---- 6.6/7.5 MB 5.3 MB/s eta 0:00:01\n",
      "   ------------------------------------- -- 7.0/7.5 MB 5.5 MB/s eta 0:00:01\n",
      "   ---------------------------------------  7.4/7.5 MB 5.5 MB/s eta 0:00:01\n",
      "   ---------------------------------------  7.5/7.5 MB 5.5 MB/s eta 0:00:01\n",
      "   ---------------------------------------  7.5/7.5 MB 5.5 MB/s eta 0:00:01\n",
      "   ---------------------------------------- 7.5/7.5 MB 5.0 MB/s eta 0:00:00\n",
      "Downloading dash_core_components-2.0.0-py3-none-any.whl (3.8 kB)\n",
      "Downloading dash_html_components-2.0.0-py3-none-any.whl (4.1 kB)\n",
      "Downloading dash_table-5.0.0-py3-none-any.whl (3.9 kB)\n",
      "Downloading retrying-1.3.4-py3-none-any.whl (11 kB)\n",
      "Installing collected packages: dash-table, dash-html-components, dash-core-components, retrying, dash\n",
      "Successfully installed dash-2.17.1 dash-core-components-2.0.0 dash-html-components-2.0.0 dash-table-5.0.0 retrying-1.3.4\n",
      "Note: you may need to restart the kernel to use updated packages.\n"
     ]
    }
   ],
   "source": [
    "pip install dash\n"
   ]
  },
  {
   "cell_type": "code",
   "execution_count": 3,
   "id": "ad270e5f-b748-42d7-b33e-967259591cbd",
   "metadata": {},
   "outputs": [],
   "source": [
    "import dash\n",
    "from dash import dcc, html\n",
    "import plotly.express as px\n",
    "import pandas as pd\n"
   ]
  },
  {
   "cell_type": "code",
   "execution_count": 4,
   "id": "057748ce-a784-46ca-b306-618b45179ef3",
   "metadata": {},
   "outputs": [],
   "source": [
    "# Example dataframe\n",
    "df = pd.DataFrame({\n",
    "    'Category': ['A', 'B', 'C', 'D'],\n",
    "    'Values': [10, 15, 7, 20]\n",
    "})\n"
   ]
  },
  {
   "cell_type": "code",
   "execution_count": 5,
   "id": "5e392f50-2381-45ca-b518-4c29b11360e7",
   "metadata": {},
   "outputs": [],
   "source": [
    "fig = px.bar(df, x='Category', y='Values', title='Bar Chart Example')\n"
   ]
  },
  {
   "cell_type": "code",
   "execution_count": 6,
   "id": "01b7cbfe-d225-434a-9bb2-1167ba1cefaa",
   "metadata": {},
   "outputs": [],
   "source": [
    "app = dash.Dash(__name__)\n"
   ]
  },
  {
   "cell_type": "code",
   "execution_count": 7,
   "id": "e5c4b0a1-4058-4363-9c98-1c29140d76bb",
   "metadata": {},
   "outputs": [],
   "source": [
    "app.layout = html.Div([\n",
    "    html.H1(\"My Dashboard\"),\n",
    "    dcc.Graph(figure=fig),\n",
    "    html.P(\"This is an example dashboard using Plotly Dash.\")\n",
    "])\n"
   ]
  },
  {
   "cell_type": "code",
   "execution_count": 8,
   "id": "330b4269-4dc9-4177-b957-a3ec86632ac0",
   "metadata": {},
   "outputs": [
    {
     "data": {
      "text/html": [
       "\n",
       "        <iframe\n",
       "            width=\"100%\"\n",
       "            height=\"650\"\n",
       "            src=\"http://127.0.0.1:8050/\"\n",
       "            frameborder=\"0\"\n",
       "            allowfullscreen\n",
       "            \n",
       "        ></iframe>\n",
       "        "
      ],
      "text/plain": [
       "<IPython.lib.display.IFrame at 0x222f53ce310>"
      ]
     },
     "metadata": {},
     "output_type": "display_data"
    }
   ],
   "source": [
    "if __name__ == '__main__':\n",
    "    app.run_server(debug=True)\n"
   ]
  },
  {
   "cell_type": "code",
   "execution_count": 9,
   "id": "41c2fed2-0cbe-4879-a7de-8828be1d2650",
   "metadata": {},
   "outputs": [
    {
     "data": {
      "text/html": [
       "\n",
       "        <iframe\n",
       "            width=\"100%\"\n",
       "            height=\"650\"\n",
       "            src=\"http://127.0.0.1:8050/\"\n",
       "            frameborder=\"0\"\n",
       "            allowfullscreen\n",
       "            \n",
       "        ></iframe>\n",
       "        "
      ],
      "text/plain": [
       "<IPython.lib.display.IFrame at 0x222f6a15d90>"
      ]
     },
     "metadata": {},
     "output_type": "display_data"
    }
   ],
   "source": [
    "import dash\n",
    "from dash import dcc, html\n",
    "import plotly.graph_objs as go\n",
    "import pandas as pd\n",
    "\n",
    "# Example data: Launch outcomes\n",
    "data = {\n",
    "    'Site': ['Site A', 'Site B', 'Site C', 'Site D'],\n",
    "    'Success': [10, 5, 8, 12],\n",
    "    'Failure': [2, 4, 1, 3]\n",
    "}\n",
    "\n",
    "# Create a DataFrame\n",
    "df = pd.DataFrame(data)\n",
    "\n",
    "# Sum success counts for each site\n",
    "success_counts = df.set_index('Site')['Success']\n",
    "\n",
    "# Create a Pie chart\n",
    "fig = go.Figure(data=[go.Pie(\n",
    "    labels=success_counts.index,\n",
    "    values=success_counts,\n",
    "    hole=0.3,\n",
    "    marker=dict(colors=px.colors.qualitative.Plotly)\n",
    ")])\n",
    "\n",
    "# Update layout of the pie chart\n",
    "fig.update_layout(\n",
    "    title_text='Launch Success Count for All Sites',\n",
    "    annotations=[dict(text='Success', x=0.5, y=0.5, font_size=20, showarrow=False)]\n",
    ")\n",
    "\n",
    "# Initialize Dash app\n",
    "app = dash.Dash(__name__)\n",
    "\n",
    "# Define app layout\n",
    "app.layout = html.Div([\n",
    "    html.H1(\"Launch Success Dashboard\"),\n",
    "    dcc.Graph(figure=fig)\n",
    "])\n",
    "\n",
    "# Run the app\n",
    "if __name__ == '__main__':\n",
    "    app.run_server(debug=True)\n"
   ]
  },
  {
   "cell_type": "code",
   "execution_count": 10,
   "id": "d8d6ad31-e580-481b-8ab9-fc47f8fc5fad",
   "metadata": {},
   "outputs": [
    {
     "data": {
      "text/html": [
       "\n",
       "        <iframe\n",
       "            width=\"100%\"\n",
       "            height=\"650\"\n",
       "            src=\"http://127.0.0.1:8050/\"\n",
       "            frameborder=\"0\"\n",
       "            allowfullscreen\n",
       "            \n",
       "        ></iframe>\n",
       "        "
      ],
      "text/plain": [
       "<IPython.lib.display.IFrame at 0x222f66ef050>"
      ]
     },
     "metadata": {},
     "output_type": "display_data"
    }
   ],
   "source": [
    "import dash\n",
    "from dash import dcc, html\n",
    "import plotly.graph_objs as go\n",
    "import pandas as pd\n",
    "\n",
    "# Example data: Launch outcomes\n",
    "data = {\n",
    "    'Site': ['Site A', 'Site B', 'Site C', 'Site D'],\n",
    "    'Success': [10, 5, 8, 12],\n",
    "    'Failure': [2, 4, 1, 3]\n",
    "}\n",
    "\n",
    "# Create a DataFrame\n",
    "df = pd.DataFrame(data)\n",
    "\n",
    "# Calculate success ratio for each site\n",
    "df['Success_Ratio'] = df['Success'] / (df['Success'] + df['Failure'])\n",
    "\n",
    "# Find the site with the highest success ratio\n",
    "best_site = df.loc[df['Success_Ratio'].idxmax()]\n",
    "\n",
    "# Create a Pie chart for the site with the highest success ratio\n",
    "fig = go.Figure(data=[go.Pie(\n",
    "    labels=['Success', 'Failure'],\n",
    "    values=[best_site['Success'], best_site['Failure']],\n",
    "    hole=0.3,\n",
    "    marker=dict(colors=['green', 'red'])\n",
    ")])\n",
    "\n",
    "# Update layout of the pie chart\n",
    "fig.update_layout(\n",
    "    title_text=f'Launch Success and Failure for {best_site[\"Site\"]}',\n",
    "    annotations=[dict(text='Success Ratio', x=0.5, y=0.5, font_size=20, showarrow=False)]\n",
    ")\n",
    "\n",
    "# Initialize Dash app\n",
    "app = dash.Dash(__name__)\n",
    "\n",
    "# Define app layout\n",
    "app.layout = html.Div([\n",
    "    html.H1(\"Launch Success Dashboard\"),\n",
    "    dcc.Graph(figure=fig)\n",
    "])\n",
    "\n",
    "# Run the app\n",
    "if __name__ == '__main__':\n",
    "    app.run_server(debug=True)\n"
   ]
  },
  {
   "cell_type": "code",
   "execution_count": 11,
   "id": "6a68df2b-3c94-4fce-8728-e622ff8f3162",
   "metadata": {},
   "outputs": [
    {
     "data": {
      "text/html": [
       "\n",
       "        <iframe\n",
       "            width=\"100%\"\n",
       "            height=\"650\"\n",
       "            src=\"http://127.0.0.1:8050/\"\n",
       "            frameborder=\"0\"\n",
       "            allowfullscreen\n",
       "            \n",
       "        ></iframe>\n",
       "        "
      ],
      "text/plain": [
       "<IPython.lib.display.IFrame at 0x222f69e1490>"
      ]
     },
     "metadata": {},
     "output_type": "display_data"
    }
   ],
   "source": [
    "import dash\n",
    "from dash import dcc, html\n",
    "import plotly.express as px\n",
    "import pandas as pd\n",
    "\n",
    "# Example data: Payload vs. Launch Outcome\n",
    "data = {\n",
    "    'Site': ['Site A', 'Site B', 'Site C', 'Site D', 'Site A', 'Site B', 'Site C', 'Site D'],\n",
    "    'Payload': [5000, 7000, 6500, 6000, 7000, 8000, 7500, 7000],\n",
    "    'Outcome': ['Success', 'Failure', 'Success', 'Failure', 'Success', 'Success', 'Failure', 'Success']\n",
    "}\n",
    "\n",
    "# Create a DataFrame\n",
    "df = pd.DataFrame(data)\n",
    "\n",
    "# Initialize Dash app\n",
    "app = dash.Dash(__name__)\n",
    "\n",
    "# Define app layout\n",
    "app.layout = html.Div([\n",
    "    html.H1(\"Payload vs. Launch Outcome\"),\n",
    "    dcc.Graph(id='scatter-plot'),\n",
    "    dcc.RangeSlider(\n",
    "        id='payload-slider',\n",
    "        min=df['Payload'].min(),\n",
    "        max=df['Payload'].max(),\n",
    "        step=100,\n",
    "        marks={i: str(i) for i in range(df['Payload'].min(), df['Payload'].max()+1, 1000)},\n",
    "        value=[df['Payload'].min(), df['Payload'].max()]\n",
    "    )\n",
    "])\n",
    "\n",
    "# Define callback to update scatter plot based on slider\n",
    "@app.callback(\n",
    "    dash.dependencies.Output('scatter-plot', 'figure'),\n",
    "    [dash.dependencies.Input('payload-slider', 'value')]\n",
    ")\n",
    "def update_figure(selected_payload_range):\n",
    "    filtered_df = df[(df['Payload'] >= selected_payload_range[0]) & (df['Payload'] <= selected_payload_range[1])]\n",
    "    fig = px.scatter(\n",
    "        filtered_df,\n",
    "        x='Payload',\n",
    "        y='Outcome',\n",
    "        color='Outcome',\n",
    "        title='Payload vs. Launch Outcome',\n",
    "        labels={'Payload': 'Payload (kg)', 'Outcome': 'Launch Outcome'}\n",
    "    )\n",
    "    fig.update_layout(\n",
    "        xaxis_title='Payload (kg)',\n",
    "        yaxis_title='Launch Outcome',\n",
    "        yaxis=dict(type='category')\n",
    "    )\n",
    "    return fig\n",
    "\n",
    "# Run the app\n",
    "if __name__ == '__main__':\n",
    "    app.run_server(debug=True)\n"
   ]
  },
  {
   "cell_type": "code",
   "execution_count": null,
   "id": "b7f5f318-5a0d-4f3a-b0e5-df5344489d9b",
   "metadata": {},
   "outputs": [],
   "source": []
  }
 ],
 "metadata": {
  "kernelspec": {
   "display_name": "Python 3 (ipykernel)",
   "language": "python",
   "name": "python3"
  },
  "language_info": {
   "codemirror_mode": {
    "name": "ipython",
    "version": 3
   },
   "file_extension": ".py",
   "mimetype": "text/x-python",
   "name": "python",
   "nbconvert_exporter": "python",
   "pygments_lexer": "ipython3",
   "version": "3.11.7"
  }
 },
 "nbformat": 4,
 "nbformat_minor": 5
}
